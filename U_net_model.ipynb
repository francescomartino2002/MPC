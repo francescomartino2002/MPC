{
  "nbformat": 4,
  "nbformat_minor": 0,
  "metadata": {
    "colab": {
      "provenance": [],
      "collapsed_sections": [],
      "authorship_tag": "ABX9TyNIxAPj3kBUQ0OwqShCPr4x",
      "include_colab_link": true
    },
    "kernelspec": {
      "name": "python3",
      "display_name": "Python 3"
    },
    "language_info": {
      "name": "python"
    }
  },
  "cells": [
    {
      "cell_type": "markdown",
      "metadata": {
        "id": "view-in-github",
        "colab_type": "text"
      },
      "source": [
        "<a href=\"https://colab.research.google.com/github/poliduckie/MPC/blob/main/U_net_model.ipynb\" target=\"_parent\"><img src=\"https://colab.research.google.com/assets/colab-badge.svg\" alt=\"Open In Colab\"/></a>"
      ]
    },
    {
      "cell_type": "code",
      "source": [
        "import tensorflow as tf\n",
        "\n",
        "IMG_WIDTH = 128\n",
        "IMG_HEIGHT = 128\n",
        "IMG_CHANNELS = 3"
      ],
      "metadata": {
        "id": "yoRfixMhAt2q"
      },
      "execution_count": 204,
      "outputs": []
    },
    {
      "cell_type": "code",
      "source": [
        "from google.colab import drive\n",
        "drive.mount('/content/drive')\n",
        "\n",
        "TRAIN_PATH = '/content/drive/My Drive/SEGMENTATION/UNET1/train'\n",
        "TEST_PATH = '/content/drive/My Drive/SEGMENTATION/UNET1/test/'"
      ],
      "metadata": {
        "id": "wBsvl4tUA3y7",
        "colab": {
          "base_uri": "https://localhost:8080/"
        },
        "outputId": "8a92fb35-ad12-435b-99bf-f47d78a3e285"
      },
      "execution_count": 205,
      "outputs": [
        {
          "output_type": "stream",
          "name": "stdout",
          "text": [
            "Drive already mounted at /content/drive; to attempt to forcibly remount, call drive.mount(\"/content/drive\", force_remount=True).\n"
          ]
        }
      ]
    },
    {
      "cell_type": "code",
      "source": [
        "import numpy as np\n",
        "from skimage.io import imread, imshow\n",
        "from skimage.transform import resize\n",
        "import matplotlib.pyplot as plt\n",
        "from tqdm import tqdm\n",
        "import cv2 as cv2\n",
        "import sys"
      ],
      "metadata": {
        "id": "l-OYqLzeCtij"
      },
      "execution_count": 206,
      "outputs": []
    },
    {
      "cell_type": "code",
      "source": [
        "import os\n",
        "from google.colab.patches import cv2_imshow\n",
        "\n",
        "length = len([entry for entry in os.listdir(TRAIN_PATH+'/img') if os.path.isfile(os.path.join(TRAIN_PATH+'/img', entry))])\n",
        "print('the number of train images is: ', length)"
      ],
      "metadata": {
        "id": "rYU14ya-E8Ro",
        "colab": {
          "base_uri": "https://localhost:8080/"
        },
        "outputId": "41966537-0253-473a-b5bd-f45b237f0dff"
      },
      "execution_count": 207,
      "outputs": [
        {
          "output_type": "stream",
          "name": "stdout",
          "text": [
            "the number of train images is:  21\n"
          ]
        }
      ]
    },
    {
      "cell_type": "markdown",
      "source": [
        "# DATASET PREPARATION"
      ],
      "metadata": {
        "id": "Ha2GWwioQs60"
      }
    },
    {
      "cell_type": "code",
      "source": [
        "train_ids = next(os.walk(TRAIN_PATH+'/img'))[2]\n",
        "train_mask = next(os.walk(TRAIN_PATH+'/masks'))[2]\n",
        "test_ids= next(os.walk(TEST_PATH))[2]\n",
        "print(train_ids)\n",
        "length = len(train_ids)\n",
        "length_test = len(test_ids)\n",
        "print(length)\n",
        "\n",
        "print(test_ids)"
      ],
      "metadata": {
        "id": "64PMTDNTIvEH",
        "colab": {
          "base_uri": "https://localhost:8080/"
        },
        "outputId": "b2cf2c75-9aca-4ebd-ba8c-b9bd7d13adf9"
      },
      "execution_count": 208,
      "outputs": [
        {
          "output_type": "stream",
          "name": "stdout",
          "text": [
            "['0.png', '1.png', '2.png', '3.png', '4.png', '5.png', '6.png', '7.png', '8.png', '9.png', '10.png', '11.png', '12.png', '13.png', '14.png', '15.png', '16.png', '17.png', '18.png', '19.png', '20.png']\n",
            "21\n",
            "['21.png', '22.png', '23.png', '24.png', '25.png', '26.png', '27.png', '28.png', '29.png', '30.png']\n"
          ]
        }
      ]
    },
    {
      "cell_type": "code",
      "source": [
        "X_train = np.zeros((length, IMG_HEIGHT, IMG_WIDTH, IMG_CHANNELS), dtype=np.uint8)\n",
        "X_test = np.zeros((length, IMG_HEIGHT, IMG_WIDTH, IMG_CHANNELS), dtype=np.uint8)\n",
        "Y_train = np.zeros((length, IMG_HEIGHT, IMG_WIDTH, 1), dtype=np.bool)"
      ],
      "metadata": {
        "id": "GQOoQ0GlDXg1",
        "colab": {
          "base_uri": "https://localhost:8080/"
        },
        "outputId": "7b72461b-05f8-4429-cea1-738d4f4aa0dd"
      },
      "execution_count": 209,
      "outputs": [
        {
          "output_type": "stream",
          "name": "stderr",
          "text": [
            "/usr/local/lib/python3.7/dist-packages/ipykernel_launcher.py:3: DeprecationWarning: `np.bool` is a deprecated alias for the builtin `bool`. To silence this warning, use `bool` by itself. Doing this will not modify any behavior and is safe. If you specifically wanted the numpy scalar type, use `np.bool_` here.\n",
            "Deprecated in NumPy 1.20; for more details and guidance: https://numpy.org/devdocs/release/1.20.0-notes.html#deprecations\n",
            "  This is separate from the ipykernel package so we can avoid doing imports until\n"
          ]
        }
      ]
    },
    {
      "cell_type": "markdown",
      "source": [
        "## RESIZING IMAGES (TO MODIFY WITH AUTOENCODER)"
      ],
      "metadata": {
        "id": "mbDZOia8QYzY"
      }
    },
    {
      "cell_type": "code",
      "source": [
        "print('Resizing and filtering training masks')\n",
        "for n, id_ in tqdm(enumerate(train_mask), total=length):\n",
        "  mask_path = TRAIN_PATH+'/masks/' +id_\n",
        "  img = imread(mask_path)\n",
        "  # Make all perfectly magenta pixels black (ducks)\n",
        "  img[np.all(img == (255, 0, 254), axis=-1)] = (0,0,0)\n",
        "  # Make all perfectly yellow pixels white (middle line)\n",
        "  img[np.all(img == (255, 255, 0), axis=-1)] = (255,255,255)\n",
        "\n",
        "  img = resize(img, (IMG_HEIGHT, IMG_WIDTH), mode='constant', preserve_range='true' )\n",
        "\n",
        "  img=img[:,:,:1]\n",
        "\n",
        " \n",
        "  Y_train[n] = img\n"
      ],
      "metadata": {
        "id": "N2vmK0k0yhCn",
        "colab": {
          "base_uri": "https://localhost:8080/"
        },
        "outputId": "31f58228-0ed8-467b-fa3d-82df9c7dfafc"
      },
      "execution_count": 210,
      "outputs": [
        {
          "output_type": "stream",
          "name": "stdout",
          "text": [
            "Resizing and filtering training masks\n"
          ]
        },
        {
          "output_type": "stream",
          "name": "stderr",
          "text": [
            "100%|██████████| 21/21 [00:00<00:00, 31.65it/s]\n"
          ]
        }
      ]
    },
    {
      "cell_type": "code",
      "source": [
        "print('Resizing training images')\n",
        "for n, id_ in tqdm(enumerate(train_ids), total=length):\n",
        "  path = TRAIN_PATH+'/img/'+ id_\n",
        "  img= imread(path)[:,:,:IMG_CHANNELS]\n",
        "  img = resize(img, (IMG_HEIGHT, IMG_WIDTH), mode='constant', preserve_range='true' )\n",
        "  X_train[n] = img"
      ],
      "metadata": {
        "id": "-XTpU3FHGdfA",
        "colab": {
          "base_uri": "https://localhost:8080/"
        },
        "outputId": "374e9aa4-d54d-4664-9668-a72a5be02105"
      },
      "execution_count": 211,
      "outputs": [
        {
          "output_type": "stream",
          "name": "stdout",
          "text": [
            "Resizing training images\n"
          ]
        },
        {
          "output_type": "stream",
          "name": "stderr",
          "text": [
            "100%|██████████| 21/21 [00:00<00:00, 54.34it/s]\n"
          ]
        }
      ]
    },
    {
      "cell_type": "code",
      "source": [
        "print('Resizing training images')\n",
        "for n, id_ in tqdm(enumerate(test_ids), total=length_test):\n",
        "  path = TEST_PATH+ id_\n",
        "  img= imread(path)[:,:,:IMG_CHANNELS]\n",
        "  img = resize(img, (IMG_HEIGHT, IMG_WIDTH), mode='constant', preserve_range='true' )\n",
        "  X_test[n] = img"
      ],
      "metadata": {
        "id": "9ibCwgWIUV3s",
        "colab": {
          "base_uri": "https://localhost:8080/"
        },
        "outputId": "069a9461-1832-4767-f649-b8ad3092e58e"
      },
      "execution_count": 212,
      "outputs": [
        {
          "output_type": "stream",
          "name": "stdout",
          "text": [
            "Resizing training images\n"
          ]
        },
        {
          "output_type": "stream",
          "name": "stderr",
          "text": [
            "100%|██████████| 10/10 [00:00<00:00, 58.06it/s]\n"
          ]
        }
      ]
    },
    {
      "cell_type": "markdown",
      "source": [
        "## show training images and mask"
      ],
      "metadata": {
        "id": "713_DeHlPuvY"
      }
    },
    {
      "cell_type": "code",
      "source": [
        "np.set_printoptions(threshold=sys.maxsize)\n",
        "\n",
        "imageno = 3\n",
        "\n",
        " \n",
        "imshow(X_train[imageno])\n",
        "plt.show()\n",
        "\n",
        "im=np.squeeze(Y_train[imageno])\n",
        "indices = im.astype(np.uint8)  #convert to an unsigned byte\n",
        "indices*=255\n",
        "imshow(indices)\n",
        "plt.show()"
      ],
      "metadata": {
        "id": "4og394GYPtKK",
        "colab": {
          "base_uri": "https://localhost:8080/",
          "height": 577
        },
        "outputId": "adb8782c-f074-4bbc-89ff-db6533dd315a"
      },
      "execution_count": 213,
      "outputs": [
        {
          "output_type": "display_data",
          "data": {
            "text/plain": [
              "<Figure size 432x288 with 1 Axes>"
            ],
            "image/png": "[encoded data removed]"
          },
          "metadata": {
            "needs_background": "light"
          }
        },
        {
          "output_type": "display_data",
          "data": {
            "text/plain": [
              "<Figure size 432x288 with 1 Axes>"
            ],
            "image/png": "[encoded data removed]"
          },
          "metadata": {
            "needs_background": "light"
          }
        }
      ]
    },
    {
      "cell_type": "markdown",
      "source": [
        "# MODEL\n",
        "\n"
      ],
      "metadata": {
        "id": "Vc95FR8KAUpr"
      }
    },
    {
      "cell_type": "code",
      "source": [
        "inputs = tf.keras.layers.Input((IMG_WIDTH, IMG_HEIGHT, IMG_CHANNELS))"
      ],
      "metadata": {
        "id": "nemhcKD8hpPC"
      },
      "execution_count": 214,
      "outputs": []
    },
    {
      "cell_type": "markdown",
      "source": [
        "conversion of the imputs values (0-255) to float"
      ],
      "metadata": {
        "id": "k0BtTLCYitw5"
      }
    },
    {
      "cell_type": "code",
      "source": [
        "s = tf.keras.layers.Lambda(lambda x:x /255)(inputs)"
      ],
      "metadata": {
        "id": "3cwxzJVSi0zW"
      },
      "execution_count": 215,
      "outputs": []
    },
    {
      "cell_type": "markdown",
      "source": [
        "## ENCODING PART\n"
      ],
      "metadata": {
        "id": "NuNqW5vWj2Iq"
      }
    },
    {
      "cell_type": "markdown",
      "source": [
        "2 conv layers.\n",
        "\n",
        "Initializer defines the starting values for the wights, with  truncated gaussian distribuiton (starting from 0)\n",
        "\n",
        "with padding we want the output = to input size\n",
        "\n",
        "we do a dropout ot generalize the network between the two convolutions"
      ],
      "metadata": {
        "id": "w7yvFL9Nh85g"
      }
    },
    {
      "cell_type": "code",
      "source": [
        "c1 = tf.keras.layers.Conv2D(16, (3,3), activation=\"relu\", kernel_initializer='he_normal', padding='same')(s)\n",
        "c1 = tf.keras.layers.Dropout(0.1)(c1)\n",
        "c1 = tf.keras.layers.Conv2D(16, (3,3), activation=\"relu\", kernel_initializer='he_normal', padding='same')(c1)\n",
        "p1 = tf.keras.layers.MaxPooling2D((2,2))(c1)"
      ],
      "metadata": {
        "id": "q8I4E0rJh4VD"
      },
      "execution_count": 216,
      "outputs": []
    },
    {
      "cell_type": "code",
      "source": [
        "c2 = tf.keras.layers.Conv2D(32, (3,3), activation=\"relu\", kernel_initializer='he_normal', padding='same')(p1)\n",
        "c2 = tf.keras.layers.Dropout(0.1)(c2)\n",
        "c2 = tf.keras.layers.Conv2D(32, (3,3), activation=\"relu\", kernel_initializer='he_normal', padding='same')(c2)\n",
        "p2 = tf.keras.layers.MaxPooling2D((2,2))(c2)"
      ],
      "metadata": {
        "id": "jXeDXjPvibgH"
      },
      "execution_count": 217,
      "outputs": []
    },
    {
      "cell_type": "code",
      "source": [
        "c3 = tf.keras.layers.Conv2D(64, (3,3), activation=\"relu\", kernel_initializer='he_normal', padding='same')(p2)\n",
        "c3 = tf.keras.layers.Dropout(0.1)(c3)\n",
        "c3 = tf.keras.layers.Conv2D(64, (3,3), activation=\"relu\", kernel_initializer='he_normal', padding='same')(c3)\n",
        "p3 = tf.keras.layers.MaxPooling2D((2,2))(c3)"
      ],
      "metadata": {
        "id": "TJiVGYxuj6fG"
      },
      "execution_count": 218,
      "outputs": []
    },
    {
      "cell_type": "code",
      "source": [
        "c4 = tf.keras.layers.Conv2D(128, (3,3), activation=\"relu\", kernel_initializer='he_normal', padding='same')(p3)\n",
        "c4 = tf.keras.layers.Dropout(0.1)(c4)\n",
        "c4 = tf.keras.layers.Conv2D(128, (3,3), activation=\"relu\", kernel_initializer='he_normal', padding='same')(c4)\n",
        "p4 = tf.keras.layers.MaxPooling2D((2,2))(c4)"
      ],
      "metadata": {
        "id": "tFgjiu-WkHzs"
      },
      "execution_count": 219,
      "outputs": []
    },
    {
      "cell_type": "markdown",
      "source": [
        "## BOTTOM"
      ],
      "metadata": {
        "id": "9A8AfVr3khBg"
      }
    },
    {
      "cell_type": "code",
      "source": [
        "c5 = tf.keras.layers.Conv2D(256, (3,3), activation=\"relu\", kernel_initializer='he_normal', padding='same')(p4)\n",
        "c5 = tf.keras.layers.Dropout(0.1)(c5)\n",
        "c5 = tf.keras.layers.Conv2D(256, (3,3), activation=\"relu\", kernel_initializer='he_normal', padding='same')(c5)"
      ],
      "metadata": {
        "id": "HFMOpVkXkVcF"
      },
      "execution_count": 220,
      "outputs": []
    },
    {
      "cell_type": "markdown",
      "source": [
        "## DECODING PATH"
      ],
      "metadata": {
        "id": "lUSXHY79klP4"
      }
    },
    {
      "cell_type": "code",
      "source": [
        "u6 = tf.keras.layers.Convolution2DTranspose(128, (2,2), strides=(2,2), padding='same')(c5)\n",
        "u6 = tf.keras.layers.concatenate([u6, c4]) #mergre with old layer\n",
        "c6 = tf.keras.layers.Conv2D(128, (3,3), activation=\"relu\", kernel_initializer='he_normal', padding='same')(u6)\n",
        "c6 = tf.keras.layers.Dropout(0.1)(c6)\n",
        "c6 = tf.keras.layers.Conv2D(128, (3,3), activation=\"relu\", kernel_initializer='he_normal', padding='same')(c6)"
      ],
      "metadata": {
        "id": "h-00WioKku5h"
      },
      "execution_count": 221,
      "outputs": []
    },
    {
      "cell_type": "code",
      "source": [
        "u7 = tf.keras.layers.Convolution2DTranspose(64, (2,2), strides=(2,2), padding='same')(c6)\n",
        "u7 = tf.keras.layers.concatenate([u7, c3])  #mergre with old layer\n",
        "c7 = tf.keras.layers.Conv2D(64, (3,3), activation=\"relu\", kernel_initializer='he_normal', padding='same')(u7)\n",
        "c7 = tf.keras.layers.Dropout(0.1)(c7)\n",
        "c7 = tf.keras.layers.Conv2D(64, (3,3), activation=\"relu\", kernel_initializer='he_normal', padding='same')(c7)"
      ],
      "metadata": {
        "id": "rriZVB70xRjw"
      },
      "execution_count": 222,
      "outputs": []
    },
    {
      "cell_type": "code",
      "source": [
        "u8 = tf.keras.layers.Convolution2DTranspose(32, (2,2), strides=(2,2), padding='same')(c7)\n",
        "u8 = tf.keras.layers.concatenate([u8, c2])  #mergre with old layer\n",
        "c8 = tf.keras.layers.Conv2D(32, (3,3), activation=\"relu\", kernel_initializer='he_normal', padding='same')(u8)\n",
        "c8 = tf.keras.layers.Dropout(0.1)(c8)\n",
        "c8 = tf.keras.layers.Conv2D(32, (3,3), activation=\"relu\", kernel_initializer='he_normal', padding='same')(c8)"
      ],
      "metadata": {
        "id": "pW_bXyF1lYYV"
      },
      "execution_count": 223,
      "outputs": []
    },
    {
      "cell_type": "code",
      "source": [
        "u9 = tf.keras.layers.Convolution2DTranspose(16, (2,2), strides=(2,2), padding='same')(c8)\n",
        "u9 = tf.keras.layers.concatenate([u9, c1])  #mergre with old layer\n",
        "c9 = tf.keras.layers.Conv2D(16, (3,3), activation=\"relu\", kernel_initializer='he_normal', padding='same')(u9)\n",
        "c9 = tf.keras.layers.Dropout(0.1)(c9)\n",
        "c9 = tf.keras.layers.Conv2D(16, (3,3), activation=\"relu\", kernel_initializer='he_normal', padding='same')(c9)"
      ],
      "metadata": {
        "id": "xpXAlgDUxw7j"
      },
      "execution_count": 224,
      "outputs": []
    },
    {
      "cell_type": "code",
      "source": [
        "outputs = tf.keras.layers.Conv2D(1, (1,1), activation = 'sigmoid')(c9)"
      ],
      "metadata": {
        "id": "YdNy8tIMyC7m"
      },
      "execution_count": 225,
      "outputs": []
    },
    {
      "cell_type": "markdown",
      "source": [
        "## checking that the model is correct"
      ],
      "metadata": {
        "id": "humRS07X24oq"
      }
    },
    {
      "cell_type": "code",
      "source": [
        "model = tf.keras.Model(inputs=[inputs], outputs=[outputs])\n",
        "model.compile(optimizer='adam', loss='binary_crossentropy')\n",
        "model.summary()"
      ],
      "metadata": {
        "id": "-09eJYo1yPwj",
        "colab": {
          "base_uri": "https://localhost:8080/"
        },
        "outputId": "94bb68f6-a688-4d9b-99b8-fb70f4e7173d"
      },
      "execution_count": 226,
      "outputs": [
        {
          "output_type": "stream",
          "name": "stdout",
          "text": [
            "Model: \"model_2\"\n",
            "__________________________________________________________________________________________________\n",
            " Layer (type)                   Output Shape         Param #     Connected to                     \n",
            "==================================================================================================\n",
            " input_3 (InputLayer)           [(None, 128, 128, 3  0           []                               \n",
            "                                )]                                                                \n",
            "                                                                                                  \n",
            " lambda_2 (Lambda)              (None, 128, 128, 3)  0           ['input_3[0][0]']                \n",
            "                                                                                                  \n",
            " conv2d_38 (Conv2D)             (None, 128, 128, 16  448         ['lambda_2[0][0]']               \n",
            "                                )                                                                 \n",
            "                                                                                                  \n",
            " dropout_18 (Dropout)           (None, 128, 128, 16  0           ['conv2d_38[0][0]']              \n",
            "                                )                                                                 \n",
            "                                                                                                  \n",
            " conv2d_39 (Conv2D)             (None, 128, 128, 16  2320        ['dropout_18[0][0]']             \n",
            "                                )                                                                 \n",
            "                                                                                                  \n",
            " max_pooling2d_8 (MaxPooling2D)  (None, 64, 64, 16)  0           ['conv2d_39[0][0]']              \n",
            "                                                                                                  \n",
            " conv2d_40 (Conv2D)             (None, 64, 64, 32)   4640        ['max_pooling2d_8[0][0]']        \n",
            "                                                                                                  \n",
            " dropout_19 (Dropout)           (None, 64, 64, 32)   0           ['conv2d_40[0][0]']              \n",
            "                                                                                                  \n",
            " conv2d_41 (Conv2D)             (None, 64, 64, 32)   9248        ['dropout_19[0][0]']             \n",
            "                                                                                                  \n",
            " max_pooling2d_9 (MaxPooling2D)  (None, 32, 32, 32)  0           ['conv2d_41[0][0]']              \n",
            "                                                                                                  \n",
            " conv2d_42 (Conv2D)             (None, 32, 32, 64)   18496       ['max_pooling2d_9[0][0]']        \n",
            "                                                                                                  \n",
            " dropout_20 (Dropout)           (None, 32, 32, 64)   0           ['conv2d_42[0][0]']              \n",
            "                                                                                                  \n",
            " conv2d_43 (Conv2D)             (None, 32, 32, 64)   36928       ['dropout_20[0][0]']             \n",
            "                                                                                                  \n",
            " max_pooling2d_10 (MaxPooling2D  (None, 16, 16, 64)  0           ['conv2d_43[0][0]']              \n",
            " )                                                                                                \n",
            "                                                                                                  \n",
            " conv2d_44 (Conv2D)             (None, 16, 16, 128)  73856       ['max_pooling2d_10[0][0]']       \n",
            "                                                                                                  \n",
            " dropout_21 (Dropout)           (None, 16, 16, 128)  0           ['conv2d_44[0][0]']              \n",
            "                                                                                                  \n",
            " conv2d_45 (Conv2D)             (None, 16, 16, 128)  147584      ['dropout_21[0][0]']             \n",
            "                                                                                                  \n",
            " max_pooling2d_11 (MaxPooling2D  (None, 8, 8, 128)   0           ['conv2d_45[0][0]']              \n",
            " )                                                                                                \n",
            "                                                                                                  \n",
            " conv2d_46 (Conv2D)             (None, 8, 8, 256)    295168      ['max_pooling2d_11[0][0]']       \n",
            "                                                                                                  \n",
            " dropout_22 (Dropout)           (None, 8, 8, 256)    0           ['conv2d_46[0][0]']              \n",
            "                                                                                                  \n",
            " conv2d_47 (Conv2D)             (None, 8, 8, 256)    590080      ['dropout_22[0][0]']             \n",
            "                                                                                                  \n",
            " conv2d_transpose_8 (Conv2DTran  (None, 16, 16, 128)  131200     ['conv2d_47[0][0]']              \n",
            " spose)                                                                                           \n",
            "                                                                                                  \n",
            " concatenate_8 (Concatenate)    (None, 16, 16, 256)  0           ['conv2d_transpose_8[0][0]',     \n",
            "                                                                  'conv2d_45[0][0]']              \n",
            "                                                                                                  \n",
            " conv2d_48 (Conv2D)             (None, 16, 16, 128)  295040      ['concatenate_8[0][0]']          \n",
            "                                                                                                  \n",
            " dropout_23 (Dropout)           (None, 16, 16, 128)  0           ['conv2d_48[0][0]']              \n",
            "                                                                                                  \n",
            " conv2d_49 (Conv2D)             (None, 16, 16, 128)  147584      ['dropout_23[0][0]']             \n",
            "                                                                                                  \n",
            " conv2d_transpose_9 (Conv2DTran  (None, 32, 32, 64)  32832       ['conv2d_49[0][0]']              \n",
            " spose)                                                                                           \n",
            "                                                                                                  \n",
            " concatenate_9 (Concatenate)    (None, 32, 32, 128)  0           ['conv2d_transpose_9[0][0]',     \n",
            "                                                                  'conv2d_43[0][0]']              \n",
            "                                                                                                  \n",
            " conv2d_50 (Conv2D)             (None, 32, 32, 64)   73792       ['concatenate_9[0][0]']          \n",
            "                                                                                                  \n",
            " dropout_24 (Dropout)           (None, 32, 32, 64)   0           ['conv2d_50[0][0]']              \n",
            "                                                                                                  \n",
            " conv2d_51 (Conv2D)             (None, 32, 32, 64)   36928       ['dropout_24[0][0]']             \n",
            "                                                                                                  \n",
            " conv2d_transpose_10 (Conv2DTra  (None, 64, 64, 32)  8224        ['conv2d_51[0][0]']              \n",
            " nspose)                                                                                          \n",
            "                                                                                                  \n",
            " concatenate_10 (Concatenate)   (None, 64, 64, 64)   0           ['conv2d_transpose_10[0][0]',    \n",
            "                                                                  'conv2d_41[0][0]']              \n",
            "                                                                                                  \n",
            " conv2d_52 (Conv2D)             (None, 64, 64, 32)   18464       ['concatenate_10[0][0]']         \n",
            "                                                                                                  \n",
            " dropout_25 (Dropout)           (None, 64, 64, 32)   0           ['conv2d_52[0][0]']              \n",
            "                                                                                                  \n",
            " conv2d_53 (Conv2D)             (None, 64, 64, 32)   9248        ['dropout_25[0][0]']             \n",
            "                                                                                                  \n",
            " conv2d_transpose_11 (Conv2DTra  (None, 128, 128, 16  2064       ['conv2d_53[0][0]']              \n",
            " nspose)                        )                                                                 \n",
            "                                                                                                  \n",
            " concatenate_11 (Concatenate)   (None, 128, 128, 32  0           ['conv2d_transpose_11[0][0]',    \n",
            "                                )                                 'conv2d_39[0][0]']              \n",
            "                                                                                                  \n",
            " conv2d_54 (Conv2D)             (None, 128, 128, 16  4624        ['concatenate_11[0][0]']         \n",
            "                                )                                                                 \n",
            "                                                                                                  \n",
            " dropout_26 (Dropout)           (None, 128, 128, 16  0           ['conv2d_54[0][0]']              \n",
            "                                )                                                                 \n",
            "                                                                                                  \n",
            " conv2d_55 (Conv2D)             (None, 128, 128, 16  2320        ['dropout_26[0][0]']             \n",
            "                                )                                                                 \n",
            "                                                                                                  \n",
            " conv2d_56 (Conv2D)             (None, 128, 128, 1)  17          ['conv2d_55[0][0]']              \n",
            "                                                                                                  \n",
            "==================================================================================================\n",
            "Total params: 1,941,105\n",
            "Trainable params: 1,941,105\n",
            "Non-trainable params: 0\n",
            "__________________________________________________________________________________________________\n"
          ]
        }
      ]
    },
    {
      "cell_type": "markdown",
      "source": [
        "adam is a backpropagation optimizer (the traditional is stocastic gradient descent)\n",
        "\n",
        "the optimizer is trying to minimize the loss function\n"
      ],
      "metadata": {
        "id": "Q6fwccxixKUw"
      }
    },
    {
      "cell_type": "markdown",
      "source": [
        "## model ckeckpoint"
      ],
      "metadata": {
        "id": "PLm1DICA1kNV"
      }
    },
    {
      "cell_type": "code",
      "source": [
        "checkpointer = tf.keras.callbacks.ModelCheckpoint('duckie_street.h5', verbose=1, save_best_only=True)"
      ],
      "metadata": {
        "id": "5nSH2WS76tRA"
      },
      "execution_count": 227,
      "outputs": []
    },
    {
      "cell_type": "code",
      "source": [
        "callbacks=[\n",
        "    tf.keras.callbacks.EarlyStopping(patience=100, monitor='val_loss'),\n",
        "    tf.keras.callbacks.TensorBoard(log_dir='logs')]\n"
      ],
      "metadata": {
        "id": "7S4-14XC7DF-"
      },
      "execution_count": 248,
      "outputs": []
    },
    {
      "cell_type": "code",
      "source": [
        "results = model.fit(X_train,Y_train, validation_split=0.1, batch_size=2, epochs=100, callbacks=callbacks)"
      ],
      "metadata": {
        "id": "2lX5sgRA5eWs",
        "colab": {
          "base_uri": "https://localhost:8080/"
        },
        "outputId": "d979ad18-0248-4745-84a9-525c66116a49"
      },
      "execution_count": 250,
      "outputs": [
        {
          "output_type": "stream",
          "name": "stdout",
          "text": [
            "Epoch 1/100\n",
            "9/9 [==============================] - 5s 497ms/step - loss: 0.0488 - val_loss: 0.0536\n",
            "Epoch 2/100\n",
            "9/9 [==============================] - 4s 496ms/step - loss: 0.0490 - val_loss: 0.0330\n",
            "Epoch 3/100\n",
            "9/9 [==============================] - 5s 512ms/step - loss: 0.0561 - val_loss: 0.0511\n",
            "Epoch 4/100\n",
            "9/9 [==============================] - 4s 493ms/step - loss: 0.0805 - val_loss: 0.0538\n",
            "Epoch 5/100\n",
            "9/9 [==============================] - 4s 479ms/step - loss: 0.0652 - val_loss: 0.0461\n",
            "Epoch 6/100\n",
            "9/9 [==============================] - 4s 492ms/step - loss: 0.0568 - val_loss: 0.0393\n",
            "Epoch 7/100\n",
            "9/9 [==============================] - 4s 503ms/step - loss: 0.0496 - val_loss: 0.0319\n",
            "Epoch 8/100\n",
            "9/9 [==============================] - 4s 494ms/step - loss: 0.0492 - val_loss: 0.0294\n",
            "Epoch 9/100\n",
            "9/9 [==============================] - 4s 490ms/step - loss: 0.0445 - val_loss: 0.0330\n",
            "Epoch 10/100\n",
            "9/9 [==============================] - 5s 510ms/step - loss: 0.0396 - val_loss: 0.0302\n",
            "Epoch 11/100\n",
            "9/9 [==============================] - 4s 486ms/step - loss: 0.0380 - val_loss: 0.0324\n",
            "Epoch 12/100\n",
            "9/9 [==============================] - 4s 477ms/step - loss: 0.0380 - val_loss: 0.0360\n",
            "Epoch 13/100\n",
            "9/9 [==============================] - 4s 496ms/step - loss: 0.0363 - val_loss: 0.0339\n",
            "Epoch 14/100\n",
            "9/9 [==============================] - 4s 492ms/step - loss: 0.0343 - val_loss: 0.0308\n",
            "Epoch 15/100\n",
            "9/9 [==============================] - 4s 500ms/step - loss: 0.0335 - val_loss: 0.0261\n",
            "Epoch 16/100\n",
            "9/9 [==============================] - 4s 454ms/step - loss: 0.0321 - val_loss: 0.0283\n",
            "Epoch 17/100\n",
            "9/9 [==============================] - 4s 483ms/step - loss: 0.0313 - val_loss: 0.0280\n",
            "Epoch 18/100\n",
            "9/9 [==============================] - 4s 496ms/step - loss: 0.0308 - val_loss: 0.0284\n",
            "Epoch 19/100\n",
            "9/9 [==============================] - 5s 524ms/step - loss: 0.0297 - val_loss: 0.0278\n",
            "Epoch 20/100\n",
            "9/9 [==============================] - 5s 516ms/step - loss: 0.0283 - val_loss: 0.0311\n",
            "Epoch 21/100\n",
            "9/9 [==============================] - 4s 491ms/step - loss: 0.0282 - val_loss: 0.0269\n",
            "Epoch 22/100\n",
            "9/9 [==============================] - 4s 496ms/step - loss: 0.0268 - val_loss: 0.0283\n",
            "Epoch 23/100\n",
            "9/9 [==============================] - 4s 501ms/step - loss: 0.0266 - val_loss: 0.0248\n",
            "Epoch 24/100\n",
            "9/9 [==============================] - 5s 511ms/step - loss: 0.0257 - val_loss: 0.0263\n",
            "Epoch 25/100\n",
            "9/9 [==============================] - 4s 449ms/step - loss: 0.0259 - val_loss: 0.0260\n",
            "Epoch 26/100\n",
            "9/9 [==============================] - 4s 501ms/step - loss: 0.0253 - val_loss: 0.0266\n",
            "Epoch 27/100\n",
            "9/9 [==============================] - 4s 501ms/step - loss: 0.0251 - val_loss: 0.0256\n",
            "Epoch 28/100\n",
            "9/9 [==============================] - 4s 502ms/step - loss: 0.0250 - val_loss: 0.0245\n",
            "Epoch 29/100\n",
            "9/9 [==============================] - 4s 497ms/step - loss: 0.0237 - val_loss: 0.0257\n",
            "Epoch 30/100\n",
            "9/9 [==============================] - 5s 517ms/step - loss: 0.0249 - val_loss: 0.0233\n",
            "Epoch 31/100\n",
            "9/9 [==============================] - 4s 459ms/step - loss: 0.0240 - val_loss: 0.0253\n",
            "Epoch 32/100\n",
            "9/9 [==============================] - 4s 443ms/step - loss: 0.0236 - val_loss: 0.0250\n",
            "Epoch 33/100\n",
            "9/9 [==============================] - 4s 495ms/step - loss: 0.0238 - val_loss: 0.0237\n",
            "Epoch 34/100\n",
            "9/9 [==============================] - 4s 450ms/step - loss: 0.0223 - val_loss: 0.0278\n",
            "Epoch 35/100\n",
            "9/9 [==============================] - 4s 494ms/step - loss: 0.0213 - val_loss: 0.0271\n",
            "Epoch 36/100\n",
            "9/9 [==============================] - 4s 498ms/step - loss: 0.0212 - val_loss: 0.0257\n",
            "Epoch 37/100\n",
            "9/9 [==============================] - 4s 495ms/step - loss: 0.0205 - val_loss: 0.0266\n",
            "Epoch 38/100\n",
            "9/9 [==============================] - 4s 502ms/step - loss: 0.0203 - val_loss: 0.0261\n",
            "Epoch 39/100\n",
            "9/9 [==============================] - 4s 449ms/step - loss: 0.0202 - val_loss: 0.0272\n",
            "Epoch 40/100\n",
            "9/9 [==============================] - 4s 485ms/step - loss: 0.0194 - val_loss: 0.0262\n",
            "Epoch 41/100\n",
            "9/9 [==============================] - 4s 428ms/step - loss: 0.0189 - val_loss: 0.0260\n",
            "Epoch 42/100\n",
            "9/9 [==============================] - 4s 487ms/step - loss: 0.0187 - val_loss: 0.0283\n",
            "Epoch 43/100\n",
            "9/9 [==============================] - 4s 431ms/step - loss: 0.0187 - val_loss: 0.0279\n",
            "Epoch 44/100\n",
            "9/9 [==============================] - 4s 443ms/step - loss: 0.0185 - val_loss: 0.0307\n",
            "Epoch 45/100\n",
            "9/9 [==============================] - 4s 448ms/step - loss: 0.0176 - val_loss: 0.0291\n",
            "Epoch 46/100\n",
            "9/9 [==============================] - 4s 426ms/step - loss: 0.0178 - val_loss: 0.0284\n",
            "Epoch 47/100\n",
            "9/9 [==============================] - 4s 426ms/step - loss: 0.0177 - val_loss: 0.0302\n",
            "Epoch 48/100\n",
            "9/9 [==============================] - 4s 429ms/step - loss: 0.0175 - val_loss: 0.0282\n",
            "Epoch 49/100\n",
            "9/9 [==============================] - 4s 425ms/step - loss: 0.0173 - val_loss: 0.0253\n",
            "Epoch 50/100\n",
            "9/9 [==============================] - 4s 423ms/step - loss: 0.0167 - val_loss: 0.0316\n",
            "Epoch 51/100\n",
            "9/9 [==============================] - 4s 431ms/step - loss: 0.0166 - val_loss: 0.0288\n",
            "Epoch 52/100\n",
            "9/9 [==============================] - 4s 487ms/step - loss: 0.0167 - val_loss: 0.0305\n",
            "Epoch 53/100\n",
            "9/9 [==============================] - 4s 479ms/step - loss: 0.0171 - val_loss: 0.0267\n",
            "Epoch 54/100\n",
            "9/9 [==============================] - 4s 426ms/step - loss: 0.0168 - val_loss: 0.0293\n",
            "Epoch 55/100\n",
            "9/9 [==============================] - 4s 438ms/step - loss: 0.0157 - val_loss: 0.0297\n",
            "Epoch 56/100\n",
            "9/9 [==============================] - 4s 430ms/step - loss: 0.0161 - val_loss: 0.0303\n",
            "Epoch 57/100\n",
            "9/9 [==============================] - 4s 440ms/step - loss: 0.0159 - val_loss: 0.0336\n",
            "Epoch 58/100\n",
            "9/9 [==============================] - 4s 464ms/step - loss: 0.0152 - val_loss: 0.0278\n",
            "Epoch 59/100\n",
            "9/9 [==============================] - 4s 431ms/step - loss: 0.0153 - val_loss: 0.0309\n",
            "Epoch 60/100\n",
            "9/9 [==============================] - 4s 430ms/step - loss: 0.0146 - val_loss: 0.0306\n",
            "Epoch 61/100\n",
            "9/9 [==============================] - 4s 462ms/step - loss: 0.0144 - val_loss: 0.0337\n",
            "Epoch 62/100\n",
            "9/9 [==============================] - 4s 446ms/step - loss: 0.0152 - val_loss: 0.0312\n",
            "Epoch 63/100\n",
            "9/9 [==============================] - 4s 428ms/step - loss: 0.0140 - val_loss: 0.0326\n",
            "Epoch 64/100\n",
            "9/9 [==============================] - 4s 433ms/step - loss: 0.0142 - val_loss: 0.0309\n",
            "Epoch 65/100\n",
            "9/9 [==============================] - 4s 445ms/step - loss: 0.0143 - val_loss: 0.0311\n",
            "Epoch 66/100\n",
            "9/9 [==============================] - 4s 431ms/step - loss: 0.0141 - val_loss: 0.0305\n",
            "Epoch 67/100\n",
            "9/9 [==============================] - 4s 465ms/step - loss: 0.0137 - val_loss: 0.0302\n",
            "Epoch 68/100\n",
            "9/9 [==============================] - 4s 426ms/step - loss: 0.0135 - val_loss: 0.0314\n",
            "Epoch 69/100\n",
            "9/9 [==============================] - 4s 424ms/step - loss: 0.0131 - val_loss: 0.0291\n",
            "Epoch 70/100\n",
            "9/9 [==============================] - 4s 476ms/step - loss: 0.0133 - val_loss: 0.0292\n",
            "Epoch 71/100\n",
            "9/9 [==============================] - 4s 429ms/step - loss: 0.0131 - val_loss: 0.0352\n",
            "Epoch 72/100\n",
            "9/9 [==============================] - 4s 445ms/step - loss: 0.0132 - val_loss: 0.0294\n",
            "Epoch 73/100\n",
            "9/9 [==============================] - 4s 465ms/step - loss: 0.0134 - val_loss: 0.0304\n",
            "Epoch 74/100\n",
            "9/9 [==============================] - 4s 442ms/step - loss: 0.0134 - val_loss: 0.0313\n",
            "Epoch 75/100\n",
            "9/9 [==============================] - 4s 462ms/step - loss: 0.0153 - val_loss: 0.0297\n",
            "Epoch 76/100\n",
            "9/9 [==============================] - 4s 425ms/step - loss: 0.0144 - val_loss: 0.0275\n",
            "Epoch 77/100\n",
            "9/9 [==============================] - 4s 442ms/step - loss: 0.0135 - val_loss: 0.0265\n",
            "Epoch 78/100\n",
            "9/9 [==============================] - 4s 455ms/step - loss: 0.0126 - val_loss: 0.0306\n",
            "Epoch 79/100\n",
            "9/9 [==============================] - 4s 464ms/step - loss: 0.0120 - val_loss: 0.0314\n",
            "Epoch 80/100\n",
            "9/9 [==============================] - 4s 491ms/step - loss: 0.0114 - val_loss: 0.0307\n",
            "Epoch 81/100\n",
            "9/9 [==============================] - 4s 459ms/step - loss: 0.0114 - val_loss: 0.0304\n",
            "Epoch 82/100\n",
            "9/9 [==============================] - 4s 460ms/step - loss: 0.0110 - val_loss: 0.0330\n",
            "Epoch 83/100\n",
            "9/9 [==============================] - 4s 482ms/step - loss: 0.0112 - val_loss: 0.0298\n",
            "Epoch 84/100\n",
            "9/9 [==============================] - 4s 451ms/step - loss: 0.0110 - val_loss: 0.0337\n",
            "Epoch 85/100\n",
            "9/9 [==============================] - 4s 471ms/step - loss: 0.0108 - val_loss: 0.0339\n",
            "Epoch 86/100\n",
            "9/9 [==============================] - 4s 490ms/step - loss: 0.0111 - val_loss: 0.0331\n",
            "Epoch 87/100\n",
            "9/9 [==============================] - 4s 494ms/step - loss: 0.0111 - val_loss: 0.0315\n",
            "Epoch 88/100\n",
            "9/9 [==============================] - 4s 484ms/step - loss: 0.0110 - val_loss: 0.0334\n",
            "Epoch 89/100\n",
            "9/9 [==============================] - 4s 486ms/step - loss: 0.0103 - val_loss: 0.0320\n",
            "Epoch 90/100\n",
            "9/9 [==============================] - 4s 487ms/step - loss: 0.0102 - val_loss: 0.0335\n",
            "Epoch 91/100\n",
            "9/9 [==============================] - 4s 479ms/step - loss: 0.0100 - val_loss: 0.0324\n",
            "Epoch 92/100\n",
            "9/9 [==============================] - 4s 474ms/step - loss: 0.0100 - val_loss: 0.0347\n",
            "Epoch 93/100\n",
            "9/9 [==============================] - 4s 493ms/step - loss: 0.0099 - val_loss: 0.0314\n",
            "Epoch 94/100\n",
            "9/9 [==============================] - 4s 436ms/step - loss: 0.0101 - val_loss: 0.0300\n",
            "Epoch 95/100\n",
            "9/9 [==============================] - 4s 494ms/step - loss: 0.0099 - val_loss: 0.0321\n",
            "Epoch 96/100\n",
            "9/9 [==============================] - 4s 461ms/step - loss: 0.0095 - val_loss: 0.0373\n",
            "Epoch 97/100\n",
            "9/9 [==============================] - 4s 489ms/step - loss: 0.0097 - val_loss: 0.0331\n",
            "Epoch 98/100\n",
            "9/9 [==============================] - 4s 481ms/step - loss: 0.0095 - val_loss: 0.0312\n",
            "Epoch 99/100\n",
            "9/9 [==============================] - 4s 480ms/step - loss: 0.0091 - val_loss: 0.0343\n",
            "Epoch 100/100\n",
            "9/9 [==============================] - 5s 513ms/step - loss: 0.0093 - val_loss: 0.0350\n"
          ]
        }
      ]
    },
    {
      "cell_type": "markdown",
      "source": [
        "# TRAINING"
      ],
      "metadata": {
        "id": "OGke2s2PQ2_J"
      }
    },
    {
      "cell_type": "code",
      "source": [
        "import random\n",
        "\n",
        "seed = 42\n",
        "np.random.seed = seed"
      ],
      "metadata": {
        "id": "y0AU0_fKRjGY"
      },
      "execution_count": 251,
      "outputs": []
    },
    {
      "cell_type": "code",
      "source": [
        "idx = random.randint(0, len(X_train))\n",
        "\n",
        "preds_train = model.predict(X_train[:int(X_train.shape[0]*0.9)], verbose = 1)\n",
        "preds_val = model.predict(X_train[int(X_train.shape[0]*0.9):], verbose = 1)\n",
        "preds_test = model.predict(X_test, verbose=1)\n",
        "\n",
        "preds_train_t = (preds_train > 0.5).astype(np.uint8)\n",
        "preds_val_t = (preds_val > 0.5).astype(np.uint8)\n",
        "preds_test_t = (preds_test > 0.5).astype(np.uint8)\n",
        "\n",
        "\n",
        "#Snity check on random training samples\n",
        "\n",
        "\n",
        "ix = random.randint(0, len(preds_train_t))\n",
        "imshow(X_train[ix])\n",
        "plt.show()\n",
        "\n",
        "im=np.squeeze(Y_train[ix])\n",
        "indices = im.astype(np.uint8)  #convert to an unsigned byte\n",
        "indices*=255\n",
        "imshow(indices)\n",
        "\n",
        "plt.show()\n",
        "\n",
        "im3 = np.squeeze(preds_train_t[ix])\n",
        "im3*=255\n",
        "imshow(im3) \n",
        "plt.show()\n",
        "\n",
        "\n",
        "\n",
        "#sanity on validation ex\n",
        "\n",
        "ix =random.randint(0, len(preds_val_t))\n",
        "imshow(X_train[int(X_train.shape[0]*0.9):][ix])\n",
        "plt.show()\n",
        "\n",
        "im2 = np.squeeze(Y_train[int(Y_train.shape[0]*0.9):][ix])\n",
        "indices = im2.astype(np.uint8)\n",
        "indices*=255\n",
        "imshow(indices) \n",
        "plt.show()\n",
        "\n",
        "\n",
        "im3 = np.squeeze(preds_val_t[ix])\n",
        "im3*=255\n",
        "imshow(im3) \n",
        "plt.show()"
      ],
      "metadata": {
        "id": "HYyroDuLQ0y6",
        "colab": {
          "base_uri": "https://localhost:8080/",
          "height": 1000
        },
        "outputId": "6c672cd7-bb02-463f-e369-9f7143868811"
      },
      "execution_count": 257,
      "outputs": [
        {
          "output_type": "stream",
          "name": "stdout",
          "text": [
            "1/1 [==============================] - 1s 721ms/step\n",
            "1/1 [==============================] - 0s 161ms/step\n",
            "1/1 [==============================] - 1s 868ms/step\n"
          ]
        },
        {
          "output_type": "display_data",
          "data": {
            "text/plain": [
              "<Figure size 432x288 with 1 Axes>"
            ],
            "image/png": "[encoded data removed]"
          },
          "metadata": {
            "needs_background": "light"
          }
        },
        {
          "output_type": "display_data",
          "data": {
            "text/plain": [
              "<Figure size 432x288 with 1 Axes>"
            ],
            "image/png": "[encoded data removed]"
          },
          "metadata": {
            "needs_background": "light"
          }
        },
        {
          "output_type": "display_data",
          "data": {
            "text/plain": [
              "<Figure size 432x288 with 1 Axes>"
            ],
            "image/png": "[encoded data removed]"
          },
          "metadata": {
            "needs_background": "light"
          }
        },
        {
          "output_type": "display_data",
          "data": {
            "text/plain": [
              "<Figure size 432x288 with 1 Axes>"
            ],
            "image/png": "[encoded data removed]"
          },
          "metadata": {
            "needs_background": "light"
          }
        },
        {
          "output_type": "display_data",
          "data": {
            "text/plain": [
              "<Figure size 432x288 with 1 Axes>"
            ],
            "image/png": "[encoded data removed]"
          },
          "metadata": {
            "needs_background": "light"
          }
        },
        {
          "output_type": "display_data",
          "data": {
            "text/plain": [
              "<Figure size 432x288 with 1 Axes>"
            ],
            "image/png": "[encoded data removed]"
          },
          "metadata": {
            "needs_background": "light"
          }
        }
      ]
    }
  ]
}